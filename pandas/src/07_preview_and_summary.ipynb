{
 "cells": [
  {
   "cell_type": "code",
   "execution_count": 27,
   "metadata": {},
   "outputs": [],
   "source": [
    "import pandas as pd\n",
    "\n",
    "file_path = \"../resource/holding.csv\"\n",
    "df = pd.read_csv(file_path, nrows=1000000)"
   ]
  },
  {
   "cell_type": "code",
   "execution_count": 28,
   "metadata": {},
   "outputs": [],
   "source": [
    "df.to_csv(\"../resource/holding_min.csv\", index=0)"
   ]
  },
  {
   "cell_type": "code",
   "execution_count": 29,
   "metadata": {},
   "outputs": [
    {
     "data": {
      "text/html": [
       "<div>\n",
       "<style scoped>\n",
       "    .dataframe tbody tr th:only-of-type {\n",
       "        vertical-align: middle;\n",
       "    }\n",
       "\n",
       "    .dataframe tbody tr th {\n",
       "        vertical-align: top;\n",
       "    }\n",
       "\n",
       "    .dataframe thead th {\n",
       "        text-align: right;\n",
       "    }\n",
       "</style>\n",
       "<table border=\"1\" class=\"dataframe\">\n",
       "  <thead>\n",
       "    <tr style=\"text-align: right;\">\n",
       "      <th></th>\n",
       "      <th>portno</th>\n",
       "      <th>report_dt</th>\n",
       "      <th>security_rank</th>\n",
       "      <th>eff_dt</th>\n",
       "      <th>percent_tna</th>\n",
       "      <th>nbr_shares</th>\n",
       "      <th>market_val</th>\n",
       "      <th>security_name</th>\n",
       "      <th>cusip</th>\n",
       "    </tr>\n",
       "  </thead>\n",
       "  <tbody>\n",
       "    <tr>\n",
       "      <th>0</th>\n",
       "      <td>2998623</td>\n",
       "      <td>2020/11/30</td>\n",
       "      <td>1</td>\n",
       "      <td>2021/01/08</td>\n",
       "      <td>2.55</td>\n",
       "      <td>7078982.0</td>\n",
       "      <td>3.103426e+08</td>\n",
       "      <td>GENERAL MOTORS CO</td>\n",
       "      <td>37045V10</td>\n",
       "    </tr>\n",
       "    <tr>\n",
       "      <th>1</th>\n",
       "      <td>2998623</td>\n",
       "      <td>2020/11/30</td>\n",
       "      <td>2</td>\n",
       "      <td>2021/01/08</td>\n",
       "      <td>1.98</td>\n",
       "      <td>3087680.0</td>\n",
       "      <td>2.412404e+08</td>\n",
       "      <td>COGNIZANT TECHNOLOGY SOLS CORP</td>\n",
       "      <td>19244610</td>\n",
       "    </tr>\n",
       "    <tr>\n",
       "      <th>2</th>\n",
       "      <td>2998623</td>\n",
       "      <td>2020/11/30</td>\n",
       "      <td>3</td>\n",
       "      <td>2021/01/08</td>\n",
       "      <td>1.89</td>\n",
       "      <td>3714760.0</td>\n",
       "      <td>2.296836e+08</td>\n",
       "      <td>MORGAN STANLEY DEAN WITTER &amp; CO</td>\n",
       "      <td>61744644</td>\n",
       "    </tr>\n",
       "    <tr>\n",
       "      <th>3</th>\n",
       "      <td>2998623</td>\n",
       "      <td>2020/11/30</td>\n",
       "      <td>4</td>\n",
       "      <td>2021/01/08</td>\n",
       "      <td>1.75</td>\n",
       "      <td>2815186.0</td>\n",
       "      <td>2.132503e+08</td>\n",
       "      <td>PHILIP MORRIS INTERNATIONAL INC</td>\n",
       "      <td>71817210</td>\n",
       "    </tr>\n",
       "    <tr>\n",
       "      <th>4</th>\n",
       "      <td>2998623</td>\n",
       "      <td>2020/11/30</td>\n",
       "      <td>5</td>\n",
       "      <td>2021/01/08</td>\n",
       "      <td>1.65</td>\n",
       "      <td>5248941.0</td>\n",
       "      <td>2.011394e+08</td>\n",
       "      <td>CORTEVA INC</td>\n",
       "      <td>22052L10</td>\n",
       "    </tr>\n",
       "  </tbody>\n",
       "</table>\n",
       "</div>"
      ],
      "text/plain": [
       "    portno   report_dt  security_rank      eff_dt  percent_tna  nbr_shares  \\\n",
       "0  2998623  2020/11/30              1  2021/01/08         2.55   7078982.0   \n",
       "1  2998623  2020/11/30              2  2021/01/08         1.98   3087680.0   \n",
       "2  2998623  2020/11/30              3  2021/01/08         1.89   3714760.0   \n",
       "3  2998623  2020/11/30              4  2021/01/08         1.75   2815186.0   \n",
       "4  2998623  2020/11/30              5  2021/01/08         1.65   5248941.0   \n",
       "\n",
       "     market_val                    security_name     cusip  \n",
       "0  3.103426e+08                GENERAL MOTORS CO  37045V10  \n",
       "1  2.412404e+08   COGNIZANT TECHNOLOGY SOLS CORP  19244610  \n",
       "2  2.296836e+08  MORGAN STANLEY DEAN WITTER & CO  61744644  \n",
       "3  2.132503e+08  PHILIP MORRIS INTERNATIONAL INC  71817210  \n",
       "4  2.011394e+08                      CORTEVA INC  22052L10  "
      ]
     },
     "execution_count": 29,
     "metadata": {},
     "output_type": "execute_result"
    }
   ],
   "source": [
    "df.head()"
   ]
  },
  {
   "cell_type": "code",
   "execution_count": 30,
   "metadata": {},
   "outputs": [
    {
     "data": {
      "text/html": [
       "<div>\n",
       "<style scoped>\n",
       "    .dataframe tbody tr th:only-of-type {\n",
       "        vertical-align: middle;\n",
       "    }\n",
       "\n",
       "    .dataframe tbody tr th {\n",
       "        vertical-align: top;\n",
       "    }\n",
       "\n",
       "    .dataframe thead th {\n",
       "        text-align: right;\n",
       "    }\n",
       "</style>\n",
       "<table border=\"1\" class=\"dataframe\">\n",
       "  <thead>\n",
       "    <tr style=\"text-align: right;\">\n",
       "      <th></th>\n",
       "      <th>portno</th>\n",
       "      <th>report_dt</th>\n",
       "      <th>security_rank</th>\n",
       "      <th>eff_dt</th>\n",
       "      <th>percent_tna</th>\n",
       "      <th>nbr_shares</th>\n",
       "      <th>market_val</th>\n",
       "      <th>security_name</th>\n",
       "      <th>cusip</th>\n",
       "    </tr>\n",
       "  </thead>\n",
       "  <tbody>\n",
       "    <tr>\n",
       "      <th>1</th>\n",
       "      <td>2998623</td>\n",
       "      <td>2020/11/30</td>\n",
       "      <td>2</td>\n",
       "      <td>2021/01/08</td>\n",
       "      <td>1.98</td>\n",
       "      <td>3087680.0</td>\n",
       "      <td>2.412404e+08</td>\n",
       "      <td>COGNIZANT TECHNOLOGY SOLS CORP</td>\n",
       "      <td>19244610</td>\n",
       "    </tr>\n",
       "    <tr>\n",
       "      <th>3</th>\n",
       "      <td>2998623</td>\n",
       "      <td>2020/11/30</td>\n",
       "      <td>4</td>\n",
       "      <td>2021/01/08</td>\n",
       "      <td>1.75</td>\n",
       "      <td>2815186.0</td>\n",
       "      <td>2.132503e+08</td>\n",
       "      <td>PHILIP MORRIS INTERNATIONAL INC</td>\n",
       "      <td>71817210</td>\n",
       "    </tr>\n",
       "    <tr>\n",
       "      <th>5</th>\n",
       "      <td>2998623</td>\n",
       "      <td>2020/11/30</td>\n",
       "      <td>6</td>\n",
       "      <td>2021/01/08</td>\n",
       "      <td>1.64</td>\n",
       "      <td>866386.0</td>\n",
       "      <td>1.997713e+08</td>\n",
       "      <td>GOLDMAN SACHS GROUP INC</td>\n",
       "      <td>38141G10</td>\n",
       "    </tr>\n",
       "    <tr>\n",
       "      <th>7</th>\n",
       "      <td>2998623</td>\n",
       "      <td>2020/11/30</td>\n",
       "      <td>8</td>\n",
       "      <td>2021/01/08</td>\n",
       "      <td>1.60</td>\n",
       "      <td>5045923.0</td>\n",
       "      <td>1.939653e+08</td>\n",
       "      <td>AMERICAN INTERNATIONAL GROUP INC</td>\n",
       "      <td>02687478</td>\n",
       "    </tr>\n",
       "  </tbody>\n",
       "</table>\n",
       "</div>"
      ],
      "text/plain": [
       "    portno   report_dt  security_rank      eff_dt  percent_tna  nbr_shares  \\\n",
       "1  2998623  2020/11/30              2  2021/01/08         1.98   3087680.0   \n",
       "3  2998623  2020/11/30              4  2021/01/08         1.75   2815186.0   \n",
       "5  2998623  2020/11/30              6  2021/01/08         1.64    866386.0   \n",
       "7  2998623  2020/11/30              8  2021/01/08         1.60   5045923.0   \n",
       "\n",
       "     market_val                     security_name     cusip  \n",
       "1  2.412404e+08    COGNIZANT TECHNOLOGY SOLS CORP  19244610  \n",
       "3  2.132503e+08   PHILIP MORRIS INTERNATIONAL INC  71817210  \n",
       "5  1.997713e+08           GOLDMAN SACHS GROUP INC  38141G10  \n",
       "7  1.939653e+08  AMERICAN INTERNATIONAL GROUP INC  02687478  "
      ]
     },
     "execution_count": 30,
     "metadata": {},
     "output_type": "execute_result"
    }
   ],
   "source": [
    "df.loc[[1, 3, 5, 7], :]"
   ]
  },
  {
   "cell_type": "code",
   "execution_count": 31,
   "metadata": {},
   "outputs": [
    {
     "data": {
      "text/html": [
       "<div>\n",
       "<style scoped>\n",
       "    .dataframe tbody tr th:only-of-type {\n",
       "        vertical-align: middle;\n",
       "    }\n",
       "\n",
       "    .dataframe tbody tr th {\n",
       "        vertical-align: top;\n",
       "    }\n",
       "\n",
       "    .dataframe thead th {\n",
       "        text-align: right;\n",
       "    }\n",
       "</style>\n",
       "<table border=\"1\" class=\"dataframe\">\n",
       "  <thead>\n",
       "    <tr style=\"text-align: right;\">\n",
       "      <th></th>\n",
       "      <th>portno</th>\n",
       "      <th>report_dt</th>\n",
       "      <th>security_rank</th>\n",
       "    </tr>\n",
       "  </thead>\n",
       "  <tbody>\n",
       "    <tr>\n",
       "      <th>1</th>\n",
       "      <td>2998623</td>\n",
       "      <td>2020/11/30</td>\n",
       "      <td>2</td>\n",
       "    </tr>\n",
       "    <tr>\n",
       "      <th>3</th>\n",
       "      <td>2998623</td>\n",
       "      <td>2020/11/30</td>\n",
       "      <td>4</td>\n",
       "    </tr>\n",
       "    <tr>\n",
       "      <th>5</th>\n",
       "      <td>2998623</td>\n",
       "      <td>2020/11/30</td>\n",
       "      <td>6</td>\n",
       "    </tr>\n",
       "    <tr>\n",
       "      <th>7</th>\n",
       "      <td>2998623</td>\n",
       "      <td>2020/11/30</td>\n",
       "      <td>8</td>\n",
       "    </tr>\n",
       "  </tbody>\n",
       "</table>\n",
       "</div>"
      ],
      "text/plain": [
       "    portno   report_dt  security_rank\n",
       "1  2998623  2020/11/30              2\n",
       "3  2998623  2020/11/30              4\n",
       "5  2998623  2020/11/30              6\n",
       "7  2998623  2020/11/30              8"
      ]
     },
     "execution_count": 31,
     "metadata": {},
     "output_type": "execute_result"
    }
   ],
   "source": [
    "df.loc[[1, 3, 5, 7], :][\n",
    "    [\"portno\", \"report_dt\", \"security_rank\"]\n",
    "]"
   ]
  },
  {
   "cell_type": "code",
   "execution_count": 32,
   "metadata": {},
   "outputs": [
    {
     "data": {
      "text/html": [
       "<div>\n",
       "<style scoped>\n",
       "    .dataframe tbody tr th:only-of-type {\n",
       "        vertical-align: middle;\n",
       "    }\n",
       "\n",
       "    .dataframe tbody tr th {\n",
       "        vertical-align: top;\n",
       "    }\n",
       "\n",
       "    .dataframe thead th {\n",
       "        text-align: right;\n",
       "    }\n",
       "</style>\n",
       "<table border=\"1\" class=\"dataframe\">\n",
       "  <thead>\n",
       "    <tr style=\"text-align: right;\">\n",
       "      <th></th>\n",
       "      <th>portno</th>\n",
       "      <th>report_dt</th>\n",
       "      <th>security_rank</th>\n",
       "    </tr>\n",
       "  </thead>\n",
       "  <tbody>\n",
       "    <tr>\n",
       "      <th>1</th>\n",
       "      <td>2998623</td>\n",
       "      <td>2020/11/30</td>\n",
       "      <td>2</td>\n",
       "    </tr>\n",
       "    <tr>\n",
       "      <th>3</th>\n",
       "      <td>2998623</td>\n",
       "      <td>2020/11/30</td>\n",
       "      <td>4</td>\n",
       "    </tr>\n",
       "    <tr>\n",
       "      <th>5</th>\n",
       "      <td>2998623</td>\n",
       "      <td>2020/11/30</td>\n",
       "      <td>6</td>\n",
       "    </tr>\n",
       "    <tr>\n",
       "      <th>7</th>\n",
       "      <td>2998623</td>\n",
       "      <td>2020/11/30</td>\n",
       "      <td>8</td>\n",
       "    </tr>\n",
       "  </tbody>\n",
       "</table>\n",
       "</div>"
      ],
      "text/plain": [
       "    portno   report_dt  security_rank\n",
       "1  2998623  2020/11/30              2\n",
       "3  2998623  2020/11/30              4\n",
       "5  2998623  2020/11/30              6\n",
       "7  2998623  2020/11/30              8"
      ]
     },
     "execution_count": 32,
     "metadata": {},
     "output_type": "execute_result"
    }
   ],
   "source": [
    "df.loc[[1, 3, 5, 7], [\"portno\", \"report_dt\", \"security_rank\"]]"
   ]
  },
  {
   "cell_type": "code",
   "execution_count": 33,
   "metadata": {},
   "outputs": [
    {
     "data": {
      "text/html": [
       "<div>\n",
       "<style scoped>\n",
       "    .dataframe tbody tr th:only-of-type {\n",
       "        vertical-align: middle;\n",
       "    }\n",
       "\n",
       "    .dataframe tbody tr th {\n",
       "        vertical-align: top;\n",
       "    }\n",
       "\n",
       "    .dataframe thead th {\n",
       "        text-align: right;\n",
       "    }\n",
       "</style>\n",
       "<table border=\"1\" class=\"dataframe\">\n",
       "  <thead>\n",
       "    <tr style=\"text-align: right;\">\n",
       "      <th></th>\n",
       "      <th>portno</th>\n",
       "      <th>report_dt</th>\n",
       "      <th>security_rank</th>\n",
       "    </tr>\n",
       "  </thead>\n",
       "  <tbody>\n",
       "    <tr>\n",
       "      <th>4</th>\n",
       "      <td>2998623</td>\n",
       "      <td>2020/11/30</td>\n",
       "      <td>5</td>\n",
       "    </tr>\n",
       "    <tr>\n",
       "      <th>5</th>\n",
       "      <td>2998623</td>\n",
       "      <td>2020/11/30</td>\n",
       "      <td>6</td>\n",
       "    </tr>\n",
       "    <tr>\n",
       "      <th>6</th>\n",
       "      <td>2998623</td>\n",
       "      <td>2020/11/30</td>\n",
       "      <td>7</td>\n",
       "    </tr>\n",
       "    <tr>\n",
       "      <th>7</th>\n",
       "      <td>2998623</td>\n",
       "      <td>2020/11/30</td>\n",
       "      <td>8</td>\n",
       "    </tr>\n",
       "    <tr>\n",
       "      <th>8</th>\n",
       "      <td>2998623</td>\n",
       "      <td>2020/11/30</td>\n",
       "      <td>9</td>\n",
       "    </tr>\n",
       "    <tr>\n",
       "      <th>9</th>\n",
       "      <td>2998623</td>\n",
       "      <td>2020/11/30</td>\n",
       "      <td>10</td>\n",
       "    </tr>\n",
       "  </tbody>\n",
       "</table>\n",
       "</div>"
      ],
      "text/plain": [
       "    portno   report_dt  security_rank\n",
       "4  2998623  2020/11/30              5\n",
       "5  2998623  2020/11/30              6\n",
       "6  2998623  2020/11/30              7\n",
       "7  2998623  2020/11/30              8\n",
       "8  2998623  2020/11/30              9\n",
       "9  2998623  2020/11/30             10"
      ]
     },
     "execution_count": 33,
     "metadata": {},
     "output_type": "execute_result"
    }
   ],
   "source": [
    "df[4:10][\n",
    "    [\"portno\", \"report_dt\", \"security_rank\"]\n",
    "]"
   ]
  },
  {
   "cell_type": "code",
   "execution_count": 34,
   "metadata": {},
   "outputs": [
    {
     "data": {
      "text/plain": [
       "Index(['portno', 'report_dt', 'security_rank', 'eff_dt', 'percent_tna',\n",
       "       'nbr_shares', 'market_val', 'security_name', 'cusip'],\n",
       "      dtype='object')"
      ]
     },
     "execution_count": 34,
     "metadata": {},
     "output_type": "execute_result"
    }
   ],
   "source": [
    "df.columns"
   ]
  },
  {
   "cell_type": "code",
   "execution_count": 35,
   "metadata": {},
   "outputs": [
    {
     "data": {
      "text/plain": [
       "portno            object\n",
       "report_dt         object\n",
       "security_rank      int64\n",
       "eff_dt            object\n",
       "percent_tna      float64\n",
       "nbr_shares       float64\n",
       "market_val       float64\n",
       "security_name     object\n",
       "cusip             object\n",
       "dtype: object"
      ]
     },
     "execution_count": 35,
     "metadata": {},
     "output_type": "execute_result"
    }
   ],
   "source": [
    "df.dtypes"
   ]
  },
  {
   "cell_type": "code",
   "execution_count": 36,
   "metadata": {},
   "outputs": [
    {
     "data": {
      "text/html": [
       "<div>\n",
       "<style scoped>\n",
       "    .dataframe tbody tr th:only-of-type {\n",
       "        vertical-align: middle;\n",
       "    }\n",
       "\n",
       "    .dataframe tbody tr th {\n",
       "        vertical-align: top;\n",
       "    }\n",
       "\n",
       "    .dataframe thead th {\n",
       "        text-align: right;\n",
       "    }\n",
       "</style>\n",
       "<table border=\"1\" class=\"dataframe\">\n",
       "  <thead>\n",
       "    <tr style=\"text-align: right;\">\n",
       "      <th></th>\n",
       "      <th>portno</th>\n",
       "      <th>report_dt</th>\n",
       "      <th>security_rank</th>\n",
       "      <th>eff_dt</th>\n",
       "      <th>percent_tna</th>\n",
       "      <th>nbr_shares</th>\n",
       "      <th>market_val</th>\n",
       "      <th>security_name</th>\n",
       "      <th>cusip</th>\n",
       "    </tr>\n",
       "  </thead>\n",
       "  <tbody>\n",
       "    <tr>\n",
       "      <th>0</th>\n",
       "      <td>2998623</td>\n",
       "      <td>2020/11/30</td>\n",
       "      <td>1</td>\n",
       "      <td>2021/01/08</td>\n",
       "      <td>2.55</td>\n",
       "      <td>7078982.0</td>\n",
       "      <td>3.103426e+08</td>\n",
       "      <td>GENERAL MOTORS CO</td>\n",
       "      <td>37045V10</td>\n",
       "    </tr>\n",
       "  </tbody>\n",
       "</table>\n",
       "</div>"
      ],
      "text/plain": [
       "    portno   report_dt  security_rank      eff_dt  percent_tna  nbr_shares  \\\n",
       "0  2998623  2020/11/30              1  2021/01/08         2.55   7078982.0   \n",
       "\n",
       "     market_val      security_name     cusip  \n",
       "0  3.103426e+08  GENERAL MOTORS CO  37045V10  "
      ]
     },
     "execution_count": 36,
     "metadata": {},
     "output_type": "execute_result"
    }
   ],
   "source": [
    "df.head(1)"
   ]
  },
  {
   "cell_type": "code",
   "execution_count": 37,
   "metadata": {},
   "outputs": [
    {
     "data": {
      "text/plain": [
       "array(['2998623', '2998638', '2998809', ..., '3092616', '3092619',\n",
       "       '3092652'], shape=(3867,), dtype=object)"
      ]
     },
     "execution_count": 37,
     "metadata": {},
     "output_type": "execute_result"
    }
   ],
   "source": [
    "df[\"portno\"].unique()"
   ]
  },
  {
   "cell_type": "code",
   "execution_count": 38,
   "metadata": {},
   "outputs": [
    {
     "data": {
      "text/plain": [
       "3867"
      ]
     },
     "execution_count": 38,
     "metadata": {},
     "output_type": "execute_result"
    }
   ],
   "source": [
    "len(df[\"portno\"].unique())"
   ]
  },
  {
   "cell_type": "code",
   "execution_count": 39,
   "metadata": {},
   "outputs": [
    {
     "data": {
      "text/plain": [
       "3867"
      ]
     },
     "execution_count": 39,
     "metadata": {},
     "output_type": "execute_result"
    }
   ],
   "source": [
    "df[\"portno\"].unique().__len__()"
   ]
  },
  {
   "cell_type": "code",
   "execution_count": 40,
   "metadata": {},
   "outputs": [
    {
     "data": {
      "text/plain": [
       "np.float64(49922721.541444)"
      ]
     },
     "execution_count": 40,
     "metadata": {},
     "output_type": "execute_result"
    }
   ],
   "source": [
    "df[\"nbr_shares\"].mean()"
   ]
  },
  {
   "cell_type": "code",
   "execution_count": 41,
   "metadata": {},
   "outputs": [
    {
     "data": {
      "text/plain": [
       "0         7078982.0\n",
       "1         3087680.0\n",
       "2         3714760.0\n",
       "3         2815186.0\n",
       "4         5248941.0\n",
       "            ...    \n",
       "999995       8556.0\n",
       "999996       2208.0\n",
       "999997      13662.0\n",
       "999998       1794.0\n",
       "999999      10902.0\n",
       "Name: nbr_shares, Length: 1000000, dtype: float64"
      ]
     },
     "execution_count": 41,
     "metadata": {},
     "output_type": "execute_result"
    }
   ],
   "source": [
    "df[\"nbr_shares\"].abs()"
   ]
  },
  {
   "cell_type": "code",
   "execution_count": 42,
   "metadata": {},
   "outputs": [
    {
     "data": {
      "text/plain": [
       "np.float64(11762813518.64225)"
      ]
     },
     "execution_count": 42,
     "metadata": {},
     "output_type": "execute_result"
    }
   ],
   "source": [
    "df[\"nbr_shares\"].std()"
   ]
  },
  {
   "cell_type": "code",
   "execution_count": 43,
   "metadata": {},
   "outputs": [
    {
     "data": {
      "text/plain": [
       "np.float64(1.3836378187435288e+20)"
      ]
     },
     "execution_count": 43,
     "metadata": {},
     "output_type": "execute_result"
    }
   ],
   "source": [
    "df[\"nbr_shares\"].var()"
   ]
  },
  {
   "cell_type": "code",
   "execution_count": 44,
   "metadata": {},
   "outputs": [
    {
     "data": {
      "text/plain": [
       "0         7078983.0\n",
       "1         3087681.0\n",
       "2         3714761.0\n",
       "3         2815187.0\n",
       "4         5248942.0\n",
       "            ...    \n",
       "999995       8557.0\n",
       "999996       2209.0\n",
       "999997      13663.0\n",
       "999998       1795.0\n",
       "999999      10903.0\n",
       "Name: nbr_shares, Length: 1000000, dtype: float64"
      ]
     },
     "execution_count": 44,
     "metadata": {},
     "output_type": "execute_result"
    }
   ],
   "source": [
    "df[\"nbr_shares\"].abs() + 1"
   ]
  },
  {
   "cell_type": "code",
   "execution_count": 45,
   "metadata": {},
   "outputs": [
    {
     "data": {
      "text/plain": [
       "0         7078983.0\n",
       "1         3087682.0\n",
       "2         3714763.0\n",
       "3         2815190.0\n",
       "4         5248946.0\n",
       "            ...    \n",
       "999995       8579.0\n",
       "999996       2232.0\n",
       "999997      13687.0\n",
       "999998       1820.0\n",
       "999999      10929.0\n",
       "Length: 1000000, dtype: float64"
      ]
     },
     "execution_count": 45,
     "metadata": {},
     "output_type": "execute_result"
    }
   ],
   "source": [
    "df[\"nbr_shares\"].abs() + df[\"security_rank\"]"
   ]
  },
  {
   "cell_type": "code",
   "execution_count": 46,
   "metadata": {},
   "outputs": [
    {
     "data": {
      "text/plain": [
       "portno\n",
       "3076812    10798\n",
       "3062442     9285\n",
       "3092256     8456\n",
       "307883d     8331\n",
       "3062436     7676\n",
       "           ...  \n",
       "3075153        1\n",
       "307512c        1\n",
       "3073329        1\n",
       "3080052        1\n",
       "3082554        1\n",
       "Name: count, Length: 3867, dtype: int64"
      ]
     },
     "execution_count": 46,
     "metadata": {},
     "output_type": "execute_result"
    }
   ],
   "source": [
    "\"\"\"\n",
    "select\n",
    "    portno\n",
    "    , count(1)\n",
    "from holding\n",
    "group by portno;\n",
    "\"\"\"\n",
    "\n",
    "df[\"portno\"].value_counts()"
   ]
  },
  {
   "cell_type": "code",
   "execution_count": 47,
   "metadata": {},
   "outputs": [
    {
     "data": {
      "text/html": [
       "<div>\n",
       "<style scoped>\n",
       "    .dataframe tbody tr th:only-of-type {\n",
       "        vertical-align: middle;\n",
       "    }\n",
       "\n",
       "    .dataframe tbody tr th {\n",
       "        vertical-align: top;\n",
       "    }\n",
       "\n",
       "    .dataframe thead th {\n",
       "        text-align: right;\n",
       "    }\n",
       "</style>\n",
       "<table border=\"1\" class=\"dataframe\">\n",
       "  <thead>\n",
       "    <tr style=\"text-align: right;\">\n",
       "      <th></th>\n",
       "      <th>num_legs</th>\n",
       "      <th>num_wings</th>\n",
       "    </tr>\n",
       "  </thead>\n",
       "  <tbody>\n",
       "    <tr>\n",
       "      <th>falcon</th>\n",
       "      <td>2</td>\n",
       "      <td>2</td>\n",
       "    </tr>\n",
       "    <tr>\n",
       "      <th>dog</th>\n",
       "      <td>4</td>\n",
       "      <td>0</td>\n",
       "    </tr>\n",
       "    <tr>\n",
       "      <th>cat</th>\n",
       "      <td>4</td>\n",
       "      <td>0</td>\n",
       "    </tr>\n",
       "    <tr>\n",
       "      <th>ant</th>\n",
       "      <td>6</td>\n",
       "      <td>0</td>\n",
       "    </tr>\n",
       "  </tbody>\n",
       "</table>\n",
       "</div>"
      ],
      "text/plain": [
       "        num_legs  num_wings\n",
       "falcon         2          2\n",
       "dog            4          0\n",
       "cat            4          0\n",
       "ant            6          0"
      ]
     },
     "execution_count": 47,
     "metadata": {},
     "output_type": "execute_result"
    }
   ],
   "source": [
    "df2 = pd.DataFrame(\n",
    "    {\n",
    "        'num_legs': [2, 4, 4, 6],\n",
    "        'num_wings': [2, 0, 0, 0]\n",
    "    },\n",
    "    index=['falcon', 'dog', 'cat', 'ant']\n",
    ")\n",
    "df2"
   ]
  },
  {
   "cell_type": "code",
   "execution_count": 48,
   "metadata": {},
   "outputs": [
    {
     "data": {
      "text/plain": [
       "num_legs  num_wings\n",
       "4         0            2\n",
       "2         2            1\n",
       "6         0            1\n",
       "Name: count, dtype: int64"
      ]
     },
     "execution_count": 48,
     "metadata": {},
     "output_type": "execute_result"
    }
   ],
   "source": [
    "df2.value_counts()"
   ]
  },
  {
   "cell_type": "code",
   "execution_count": 49,
   "metadata": {},
   "outputs": [
    {
     "data": {
      "text/html": [
       "<div>\n",
       "<style scoped>\n",
       "    .dataframe tbody tr th:only-of-type {\n",
       "        vertical-align: middle;\n",
       "    }\n",
       "\n",
       "    .dataframe tbody tr th {\n",
       "        vertical-align: top;\n",
       "    }\n",
       "\n",
       "    .dataframe thead th {\n",
       "        text-align: right;\n",
       "    }\n",
       "</style>\n",
       "<table border=\"1\" class=\"dataframe\">\n",
       "  <thead>\n",
       "    <tr style=\"text-align: right;\">\n",
       "      <th></th>\n",
       "      <th>security_rank</th>\n",
       "      <th>percent_tna</th>\n",
       "      <th>nbr_shares</th>\n",
       "      <th>market_val</th>\n",
       "    </tr>\n",
       "  </thead>\n",
       "  <tbody>\n",
       "    <tr>\n",
       "      <th>count</th>\n",
       "      <td>1000000.000000</td>\n",
       "      <td>1000000.000000</td>\n",
       "      <td>1.000000e+06</td>\n",
       "      <td>1.000000e+06</td>\n",
       "    </tr>\n",
       "    <tr>\n",
       "      <th>mean</th>\n",
       "      <td>878.182552</td>\n",
       "      <td>0.313768</td>\n",
       "      <td>4.992272e+07</td>\n",
       "      <td>8.295992e+06</td>\n",
       "    </tr>\n",
       "    <tr>\n",
       "      <th>std</th>\n",
       "      <td>1319.490208</td>\n",
       "      <td>1.713193</td>\n",
       "      <td>1.176281e+10</td>\n",
       "      <td>8.153384e+07</td>\n",
       "    </tr>\n",
       "    <tr>\n",
       "      <th>min</th>\n",
       "      <td>1.000000</td>\n",
       "      <td>-200.000000</td>\n",
       "      <td>-4.398750e+12</td>\n",
       "      <td>-7.381045e+09</td>\n",
       "    </tr>\n",
       "    <tr>\n",
       "      <th>25%</th>\n",
       "      <td>116.000000</td>\n",
       "      <td>0.010000</td>\n",
       "      <td>2.069500e+04</td>\n",
       "      <td>1.783209e+05</td>\n",
       "    </tr>\n",
       "    <tr>\n",
       "      <th>50%</th>\n",
       "      <td>398.000000</td>\n",
       "      <td>0.050000</td>\n",
       "      <td>2.000000e+05</td>\n",
       "      <td>8.666431e+05</td>\n",
       "    </tr>\n",
       "    <tr>\n",
       "      <th>75%</th>\n",
       "      <td>1090.000000</td>\n",
       "      <td>0.210000</td>\n",
       "      <td>1.208042e+06</td>\n",
       "      <td>3.516512e+06</td>\n",
       "    </tr>\n",
       "    <tr>\n",
       "      <th>max</th>\n",
       "      <td>12388.000000</td>\n",
       "      <td>300.080000</td>\n",
       "      <td>6.667220e+12</td>\n",
       "      <td>1.862818e+10</td>\n",
       "    </tr>\n",
       "  </tbody>\n",
       "</table>\n",
       "</div>"
      ],
      "text/plain": [
       "        security_rank     percent_tna    nbr_shares    market_val\n",
       "count  1000000.000000  1000000.000000  1.000000e+06  1.000000e+06\n",
       "mean       878.182552        0.313768  4.992272e+07  8.295992e+06\n",
       "std       1319.490208        1.713193  1.176281e+10  8.153384e+07\n",
       "min          1.000000     -200.000000 -4.398750e+12 -7.381045e+09\n",
       "25%        116.000000        0.010000  2.069500e+04  1.783209e+05\n",
       "50%        398.000000        0.050000  2.000000e+05  8.666431e+05\n",
       "75%       1090.000000        0.210000  1.208042e+06  3.516512e+06\n",
       "max      12388.000000      300.080000  6.667220e+12  1.862818e+10"
      ]
     },
     "execution_count": 49,
     "metadata": {},
     "output_type": "execute_result"
    }
   ],
   "source": [
    "df.describe()"
   ]
  },
  {
   "cell_type": "code",
   "execution_count": 50,
   "metadata": {},
   "outputs": [
    {
     "data": {
      "text/plain": [
       "portno\n",
       "2998623    351\n",
       "2998638     77\n",
       "2998809     70\n",
       "2998821     54\n",
       "2999052      2\n",
       "          ... \n",
       "309260a      2\n",
       "309260d    514\n",
       "3092616      1\n",
       "3092619    403\n",
       "3092652     27\n",
       "Length: 3867, dtype: int64"
      ]
     },
     "execution_count": 50,
     "metadata": {},
     "output_type": "execute_result"
    }
   ],
   "source": [
    "df.groupby(\"portno\").size()"
   ]
  },
  {
   "cell_type": "code",
   "execution_count": 51,
   "metadata": {},
   "outputs": [
    {
     "data": {
      "text/plain": [
       "portno\n",
       "2998623     99.79\n",
       "2998638     99.89\n",
       "2998809     99.50\n",
       "2998821    100.01\n",
       "2999052      0.08\n",
       "            ...  \n",
       "309260a      0.10\n",
       "309260d    100.79\n",
       "3092616      0.07\n",
       "3092619    100.06\n",
       "3092652    118.57\n",
       "Name: percent_tna, Length: 3867, dtype: float64"
      ]
     },
     "execution_count": 51,
     "metadata": {},
     "output_type": "execute_result"
    }
   ],
   "source": [
    "df.groupby(\"portno\").sum()[\"percent_tna\"]"
   ]
  },
  {
   "cell_type": "code",
   "execution_count": 52,
   "metadata": {},
   "outputs": [
    {
     "data": {
      "text/plain": [
       "np.float64(99.78999999999999)"
      ]
     },
     "execution_count": 52,
     "metadata": {},
     "output_type": "execute_result"
    }
   ],
   "source": [
    "df.groupby(\"portno\").get_group(\"2998623\")[\"percent_tna\"].sum()"
   ]
  },
  {
   "cell_type": "code",
   "execution_count": 53,
   "metadata": {},
   "outputs": [
    {
     "data": {
      "text/plain": [
       "portno   security_name                   \n",
       "2998623  10YR TNotes MAR1                    1\n",
       "         5YR T NOTES MAR1                    1\n",
       "         ALCON INC                           1\n",
       "         AMERICAN INTERNATIONAL GROUP INC    1\n",
       "         AMG Capital Trust II                1\n",
       "                                            ..\n",
       "3092652  TAKE TWO INTERACTIVE SOFTWR INC     1\n",
       "         USD Cash                            1\n",
       "         WORLD WRESTLING ENTMT INC           1\n",
       "         ZSCALER INC                         1\n",
       "         ZYNGA INC                           1\n",
       "Length: 980492, dtype: int64"
      ]
     },
     "execution_count": 53,
     "metadata": {},
     "output_type": "execute_result"
    }
   ],
   "source": [
    "df.groupby([\"portno\", \"security_name\"]).size()"
   ]
  },
  {
   "cell_type": "code",
   "execution_count": 55,
   "metadata": {},
   "outputs": [
    {
     "data": {
      "text/html": [
       "<div>\n",
       "<style scoped>\n",
       "    .dataframe tbody tr th:only-of-type {\n",
       "        vertical-align: middle;\n",
       "    }\n",
       "\n",
       "    .dataframe tbody tr th {\n",
       "        vertical-align: top;\n",
       "    }\n",
       "\n",
       "    .dataframe thead th {\n",
       "        text-align: right;\n",
       "    }\n",
       "</style>\n",
       "<table border=\"1\" class=\"dataframe\">\n",
       "  <thead>\n",
       "    <tr style=\"text-align: right;\">\n",
       "      <th></th>\n",
       "      <th>portno</th>\n",
       "      <th>security_rank</th>\n",
       "      <th>eff_dt</th>\n",
       "      <th>percent_tna</th>\n",
       "      <th>nbr_shares</th>\n",
       "      <th>market_val</th>\n",
       "      <th>security_name</th>\n",
       "      <th>cusip</th>\n",
       "    </tr>\n",
       "    <tr>\n",
       "      <th>report_dt</th>\n",
       "      <th></th>\n",
       "      <th></th>\n",
       "      <th></th>\n",
       "      <th></th>\n",
       "      <th></th>\n",
       "      <th></th>\n",
       "      <th></th>\n",
       "      <th></th>\n",
       "    </tr>\n",
       "  </thead>\n",
       "  <tbody>\n",
       "    <tr>\n",
       "      <th>2020/11/30</th>\n",
       "      <td>2998623299862329986232998623299862329986232998...</td>\n",
       "      <td>61888</td>\n",
       "      <td>2021/01/082021/01/082021/01/082021/01/082021/0...</td>\n",
       "      <td>99.79</td>\n",
       "      <td>3.817768e+09</td>\n",
       "      <td>1.213476e+10</td>\n",
       "      <td>GENERAL MOTORS COCOGNIZANT TECHNOLOGY SOLS COR...</td>\n",
       "      <td>37045V1019244610617446447181721022052L1038141G...</td>\n",
       "    </tr>\n",
       "  </tbody>\n",
       "</table>\n",
       "</div>"
      ],
      "text/plain": [
       "                                                       portno  security_rank  \\\n",
       "report_dt                                                                      \n",
       "2020/11/30  2998623299862329986232998623299862329986232998...          61888   \n",
       "\n",
       "                                                       eff_dt  percent_tna  \\\n",
       "report_dt                                                                    \n",
       "2020/11/30  2021/01/082021/01/082021/01/082021/01/082021/0...        99.79   \n",
       "\n",
       "              nbr_shares    market_val  \\\n",
       "report_dt                                \n",
       "2020/11/30  3.817768e+09  1.213476e+10   \n",
       "\n",
       "                                                security_name  \\\n",
       "report_dt                                                       \n",
       "2020/11/30  GENERAL MOTORS COCOGNIZANT TECHNOLOGY SOLS COR...   \n",
       "\n",
       "                                                        cusip  \n",
       "report_dt                                                      \n",
       "2020/11/30  37045V1019244610617446447181721022052L1038141G...  "
      ]
     },
     "execution_count": 55,
     "metadata": {},
     "output_type": "execute_result"
    }
   ],
   "source": [
    "df[df[\"portno\"] == \"2998623\"].groupby(\"report_dt\").sum().sort_values(\"percent_tna\")"
   ]
  },
  {
   "cell_type": "code",
   "execution_count": 61,
   "metadata": {},
   "outputs": [
    {
     "data": {
      "text/plain": [
       "portno   security_name                   \n",
       "2998623  10YR TNotes MAR1                    1\n",
       "         5YR T NOTES MAR1                    1\n",
       "         ALCON INC                           1\n",
       "         AMERICAN INTERNATIONAL GROUP INC    1\n",
       "         AMG Capital Trust II                1\n",
       "                                            ..\n",
       "3092652  TAKE TWO INTERACTIVE SOFTWR INC     1\n",
       "         USD Cash                            1\n",
       "         WORLD WRESTLING ENTMT INC           1\n",
       "         ZSCALER INC                         1\n",
       "         ZYNGA INC                           1\n",
       "Length: 980492, dtype: int64"
      ]
     },
     "execution_count": 61,
     "metadata": {},
     "output_type": "execute_result"
    }
   ],
   "source": [
    "df.groupby([\"portno\", \"security_name\"]).size()"
   ]
  },
  {
   "cell_type": "code",
   "execution_count": 63,
   "metadata": {},
   "outputs": [
    {
     "data": {
      "text/plain": [
       "portno   security_name                   \n",
       "2998623  10YR TNotes MAR1                    False\n",
       "         5YR T NOTES MAR1                    False\n",
       "         ALCON INC                           False\n",
       "         AMERICAN INTERNATIONAL GROUP INC    False\n",
       "         AMG Capital Trust II                False\n",
       "                                             ...  \n",
       "3092652  TAKE TWO INTERACTIVE SOFTWR INC     False\n",
       "         USD Cash                            False\n",
       "         WORLD WRESTLING ENTMT INC           False\n",
       "         ZSCALER INC                         False\n",
       "         ZYNGA INC                           False\n",
       "Length: 980492, dtype: bool"
      ]
     },
     "execution_count": 63,
     "metadata": {},
     "output_type": "execute_result"
    }
   ],
   "source": [
    "df.groupby([\"portno\", \"security_name\"]).size() > 1"
   ]
  },
  {
   "cell_type": "code",
   "execution_count": 60,
   "metadata": {},
   "outputs": [
    {
     "data": {
      "text/plain": [
       "portno   security_name                                                  \n",
       "2998623  WELLS FARGO & CO NEW                                               2\n",
       "3001404  Reliance Industries Ltd ORD                                        2\n",
       "300251d  J.P. MORGAN MORTGAGE TRUST 28-Dec-2048 176                         2\n",
       "300283b  ALPHABET INC                                                       2\n",
       "         BRISTOL MYERS SQUIBB CO                                            2\n",
       "                                                                           ..\n",
       "309260d  China Shenhua Energy Co Ltd ORD                                    2\n",
       "         El Salvador 7.125% 20-Jan-2050                                     2\n",
       "         Ghana, Republic of (Government) 7.875% 11-FEB-2035                 2\n",
       "         Gobierno De La Republica De Guatemala 6.125% 01-JUN-2050           2\n",
       "         Gran Tierra Energy International Holdings Ltd 6.25% 15-FEB-2025    2\n",
       "Length: 14301, dtype: int64"
      ]
     },
     "execution_count": 60,
     "metadata": {},
     "output_type": "execute_result"
    }
   ],
   "source": [
    "\"\"\"\n",
    "df.groupby([\"portno\", \"security_name\"]).size() > 1\n",
    "\"\"\"\n",
    "\n",
    "df_tmp = df.groupby([\"portno\", \"security_name\"]).size()\n",
    "\n",
    "df_tmp[df_tmp > 1]"
   ]
  },
  {
   "cell_type": "code",
   "execution_count": 62,
   "metadata": {},
   "outputs": [
    {
     "data": {
      "text/plain": [
       "0         37045V10\n",
       "1         19244610\n",
       "2         61744644\n",
       "3         71817210\n",
       "4         22052L10\n",
       "            ...   \n",
       "999995    18915M10\n",
       "999996    05276910\n",
       "999997    98156Q10\n",
       "999998    73278L10\n",
       "999999    45841N10\n",
       "Name: cusip, Length: 1000000, dtype: object"
      ]
     },
     "execution_count": 62,
     "metadata": {},
     "output_type": "execute_result"
    }
   ],
   "source": [
    "df[\"cusip\"]"
   ]
  },
  {
   "cell_type": "code",
   "execution_count": null,
   "metadata": {},
   "outputs": [],
   "source": []
  }
 ],
 "metadata": {
  "kernelspec": {
   "display_name": "Python 3",
   "language": "python",
   "name": "python3"
  },
  "language_info": {
   "codemirror_mode": {
    "name": "ipython",
    "version": 3
   },
   "file_extension": ".py",
   "mimetype": "text/x-python",
   "name": "python",
   "nbconvert_exporter": "python",
   "pygments_lexer": "ipython3",
   "version": "3.12.8"
  }
 },
 "nbformat": 4,
 "nbformat_minor": 2
}
