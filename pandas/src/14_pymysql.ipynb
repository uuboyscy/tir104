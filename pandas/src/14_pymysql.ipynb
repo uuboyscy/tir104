{
 "cells": [
  {
   "cell_type": "code",
   "execution_count": 21,
   "metadata": {},
   "outputs": [
    {
     "name": "stdout",
     "output_type": "stream",
     "text": [
      "Successfully connected!\n"
     ]
    }
   ],
   "source": [
    "# 連接資料庫\n",
    "import pymysql\n",
    "\n",
    "host = 'host.docker.internal'\n",
    "port = 3307\n",
    "user = 'root'\n",
    "passwd = '1234567890'\n",
    "db = 'TESTDB'\n",
    "charset = 'utf8mb4'\n",
    "\n",
    "conn = pymysql.connect(host=host, port=port, user=user, passwd=passwd, db=db, charset=charset)\n",
    "print('Successfully connected!')\n",
    "\n",
    "cursor = conn.cursor()"
   ]
  },
  {
   "cell_type": "code",
   "execution_count": 2,
   "metadata": {},
   "outputs": [
    {
     "data": {
      "text/plain": [
       "1"
      ]
     },
     "execution_count": 2,
     "metadata": {},
     "output_type": "execute_result"
    }
   ],
   "source": [
    "# 試著 INSERT 一筆資料\n",
    "# 注意 TABLE 欄位的資料型態\n",
    "\n",
    "# 先寫好 SQL 語法\n",
    "sql = \"\"\"\n",
    "INSERT INTO Staff (ID, Name, DeptId, Age, Gender, Salary, recordDt)\n",
    "VALUES ('001', 'Mike', '002', 45, 'M', 60000, '2020-04-24 14:59:57');\n",
    "\"\"\"\n",
    "\n",
    "# 將指令放進 cursor 物件，並執行\n",
    "cursor.execute(sql)"
   ]
  },
  {
   "cell_type": "code",
   "execution_count": 3,
   "metadata": {},
   "outputs": [],
   "source": [
    "conn.commit()"
   ]
  },
  {
   "cell_type": "code",
   "execution_count": 4,
   "metadata": {},
   "outputs": [],
   "source": [
    "sql = \"\"\"\n",
    "delete from Staff\n",
    "\"\"\"\n",
    "cursor.execute(sql)\n",
    "conn.commit()"
   ]
  },
  {
   "cell_type": "code",
   "execution_count": 22,
   "metadata": {},
   "outputs": [
    {
     "data": {
      "text/plain": [
       "8"
      ]
     },
     "execution_count": 22,
     "metadata": {},
     "output_type": "execute_result"
    }
   ],
   "source": [
    "data = [('001', 'Mike', '002', '45', 'M', '60000', '2020-10-13 21:41:49'),\n",
    " ('002', 'Judy', '002', '30', 'F', '48000', '2020-10-13 21:41:49'),\n",
    " ('003', 'Allen', '001', '22', 'M', '50000', '2020-10-13 21:41:49'),\n",
    " ('004', 'Tom', '002', '47', 'M', '47000', '2020-10-13 21:41:49'),\n",
    " ('005', 'Jack', '003', '36', 'M', '52000', '2020-10-13 21:41:49'),\n",
    " ('006', 'Abby', '002', '24', 'F', '45000', '2020-10-13 21:41:49'),\n",
    " ('007', 'Trump', '001', '80', 'M', '80000', '2020-10-13 21:41:49'),\n",
    " ('008', 'Marry', '003', '29', 'F', '87000', '2020-10-13 21:41:49')]\n",
    "\n",
    "sql_insert = \"\"\"\n",
    "INSERT INTO Staff (ID, Name, DeptId, Age, Gender, Salary, recordDt)\n",
    "VALUES (%s, %s, %s, %s, %s, %s, %s);\n",
    "\"\"\"\n",
    "\n",
    "cursor.executemany(sql_insert, data)"
   ]
  },
  {
   "cell_type": "code",
   "execution_count": 23,
   "metadata": {},
   "outputs": [],
   "source": [
    "conn.commit()"
   ]
  },
  {
   "cell_type": "code",
   "execution_count": 15,
   "metadata": {},
   "outputs": [
    {
     "data": {
      "text/plain": [
       "8"
      ]
     },
     "execution_count": 15,
     "metadata": {},
     "output_type": "execute_result"
    }
   ],
   "source": [
    "sql = \"select * from Staff\"\n",
    "\n",
    "cursor.execute(sql)"
   ]
  },
  {
   "cell_type": "code",
   "execution_count": 16,
   "metadata": {},
   "outputs": [
    {
     "data": {
      "text/plain": [
       "(('001',\n",
       "  'Mike',\n",
       "  '002',\n",
       "  45,\n",
       "  'M',\n",
       "  60000,\n",
       "  datetime.datetime(2020, 10, 13, 21, 41, 49)),\n",
       " ('002',\n",
       "  'Judy',\n",
       "  '002',\n",
       "  30,\n",
       "  'F',\n",
       "  48000,\n",
       "  datetime.datetime(2020, 10, 13, 21, 41, 49)),\n",
       " ('003',\n",
       "  'Allen',\n",
       "  '001',\n",
       "  22,\n",
       "  'M',\n",
       "  50000,\n",
       "  datetime.datetime(2020, 10, 13, 21, 41, 49)),\n",
       " ('004',\n",
       "  'Tom',\n",
       "  '002',\n",
       "  47,\n",
       "  'M',\n",
       "  47000,\n",
       "  datetime.datetime(2020, 10, 13, 21, 41, 49)),\n",
       " ('005',\n",
       "  'Jack',\n",
       "  '003',\n",
       "  36,\n",
       "  'M',\n",
       "  52000,\n",
       "  datetime.datetime(2020, 10, 13, 21, 41, 49)),\n",
       " ('006',\n",
       "  'Abby',\n",
       "  '002',\n",
       "  24,\n",
       "  'F',\n",
       "  45000,\n",
       "  datetime.datetime(2020, 10, 13, 21, 41, 49)),\n",
       " ('007',\n",
       "  'Trump',\n",
       "  '001',\n",
       "  80,\n",
       "  'M',\n",
       "  80000,\n",
       "  datetime.datetime(2020, 10, 13, 21, 41, 49)),\n",
       " ('008',\n",
       "  'Marry',\n",
       "  '003',\n",
       "  29,\n",
       "  'F',\n",
       "  87000,\n",
       "  datetime.datetime(2020, 10, 13, 21, 41, 49)))"
      ]
     },
     "execution_count": 16,
     "metadata": {},
     "output_type": "execute_result"
    }
   ],
   "source": [
    "cursor.fetchall()"
   ]
  },
  {
   "cell_type": "code",
   "execution_count": 17,
   "metadata": {},
   "outputs": [
    {
     "data": {
      "text/plain": [
       "()"
      ]
     },
     "execution_count": 17,
     "metadata": {},
     "output_type": "execute_result"
    }
   ],
   "source": [
    "cursor.fetchall()"
   ]
  },
  {
   "cell_type": "code",
   "execution_count": 18,
   "metadata": {},
   "outputs": [
    {
     "data": {
      "text/plain": [
       "8"
      ]
     },
     "execution_count": 18,
     "metadata": {},
     "output_type": "execute_result"
    }
   ],
   "source": [
    "sql = \"select * from Staff\"\n",
    "\n",
    "cursor.execute(sql)"
   ]
  },
  {
   "cell_type": "code",
   "execution_count": 19,
   "metadata": {},
   "outputs": [],
   "source": [
    "output = cursor.fetchall()"
   ]
  },
  {
   "cell_type": "code",
   "execution_count": 20,
   "metadata": {},
   "outputs": [
    {
     "data": {
      "text/plain": [
       "tuple"
      ]
     },
     "execution_count": 20,
     "metadata": {},
     "output_type": "execute_result"
    }
   ],
   "source": [
    "type(output)"
   ]
  },
  {
   "cell_type": "code",
   "execution_count": 12,
   "metadata": {},
   "outputs": [
    {
     "data": {
      "text/plain": [
       "(('001',\n",
       "  'Mike',\n",
       "  '002',\n",
       "  45,\n",
       "  'M',\n",
       "  60000,\n",
       "  datetime.datetime(2020, 10, 13, 21, 41, 49)),\n",
       " ('002',\n",
       "  'Judy',\n",
       "  '002',\n",
       "  30,\n",
       "  'F',\n",
       "  48000,\n",
       "  datetime.datetime(2020, 10, 13, 21, 41, 49)),\n",
       " ('003',\n",
       "  'Allen',\n",
       "  '001',\n",
       "  22,\n",
       "  'M',\n",
       "  50000,\n",
       "  datetime.datetime(2020, 10, 13, 21, 41, 49)),\n",
       " ('004',\n",
       "  'Tom',\n",
       "  '002',\n",
       "  47,\n",
       "  'M',\n",
       "  47000,\n",
       "  datetime.datetime(2020, 10, 13, 21, 41, 49)),\n",
       " ('005',\n",
       "  'Jack',\n",
       "  '003',\n",
       "  36,\n",
       "  'M',\n",
       "  52000,\n",
       "  datetime.datetime(2020, 10, 13, 21, 41, 49)),\n",
       " ('006',\n",
       "  'Abby',\n",
       "  '002',\n",
       "  24,\n",
       "  'F',\n",
       "  45000,\n",
       "  datetime.datetime(2020, 10, 13, 21, 41, 49)),\n",
       " ('007',\n",
       "  'Trump',\n",
       "  '001',\n",
       "  80,\n",
       "  'M',\n",
       "  80000,\n",
       "  datetime.datetime(2020, 10, 13, 21, 41, 49)),\n",
       " ('008',\n",
       "  'Marry',\n",
       "  '003',\n",
       "  29,\n",
       "  'F',\n",
       "  87000,\n",
       "  datetime.datetime(2020, 10, 13, 21, 41, 49)))"
      ]
     },
     "execution_count": 12,
     "metadata": {},
     "output_type": "execute_result"
    }
   ],
   "source": [
    "output"
   ]
  },
  {
   "cell_type": "code",
   "execution_count": 24,
   "metadata": {},
   "outputs": [],
   "source": [
    "cursor.close()\n",
    "conn.close()"
   ]
  },
  {
   "cell_type": "code",
   "execution_count": null,
   "metadata": {},
   "outputs": [],
   "source": []
  }
 ],
 "metadata": {
  "kernelspec": {
   "display_name": "Python 3",
   "language": "python",
   "name": "python3"
  },
  "language_info": {
   "codemirror_mode": {
    "name": "ipython",
    "version": 3
   },
   "file_extension": ".py",
   "mimetype": "text/x-python",
   "name": "python",
   "nbconvert_exporter": "python",
   "pygments_lexer": "ipython3",
   "version": "3.12.8"
  }
 },
 "nbformat": 4,
 "nbformat_minor": 2
}
