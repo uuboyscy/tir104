{
 "cells": [
  {
   "cell_type": "code",
   "execution_count": 1,
   "metadata": {},
   "outputs": [
    {
     "name": "stdout",
     "output_type": "stream",
     "text": [
      "Successfully connected!\n"
     ]
    }
   ],
   "source": [
    "# 連接資料庫\n",
    "import pymysql\n",
    "\n",
    "host = 'host.docker.internal'\n",
    "port = 3307\n",
    "user = 'root'\n",
    "passwd = '1234567890'\n",
    "db = 'TESTDB'\n",
    "charset = 'utf8mb4'\n",
    "\n",
    "conn = pymysql.connect(host=host, port=port, user=user, passwd=passwd, db=db, charset=charset)\n",
    "print('Successfully connected!')\n",
    "\n",
    "cursor = conn.cursor()"
   ]
  },
  {
   "cell_type": "code",
   "execution_count": null,
   "metadata": {},
   "outputs": [],
   "source": []
  }
 ],
 "metadata": {
  "kernelspec": {
   "display_name": "Python 3",
   "language": "python",
   "name": "python3"
  },
  "language_info": {
   "codemirror_mode": {
    "name": "ipython",
    "version": 3
   },
   "file_extension": ".py",
   "mimetype": "text/x-python",
   "name": "python",
   "nbconvert_exporter": "python",
   "pygments_lexer": "ipython3",
   "version": "3.12.8"
  }
 },
 "nbformat": 4,
 "nbformat_minor": 2
}
